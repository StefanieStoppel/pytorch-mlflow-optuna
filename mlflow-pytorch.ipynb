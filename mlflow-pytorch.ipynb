{
 "cells": [
  {
   "cell_type": "markdown",
   "metadata": {
    "collapsed": true,
    "pycharm": {
     "is_executing": false,
     "name": "#%% md\n"
    }
   },
   "source": [
    "# MlFlow and PyTorch MNIST "
   ]
  },
  {
   "cell_type": "markdown",
   "metadata": {},
   "source": [
    "## Imports"
   ]
  },
  {
   "cell_type": "code",
   "execution_count": 60,
   "metadata": {
    "pycharm": {
     "is_executing": false,
     "name": "#%%\n"
    }
   },
   "outputs": [],
   "source": [
    "from __future__ import print_function\n",
    "import torch\n",
    "import torch.nn as nn\n",
    "import torch.nn.functional as F\n",
    "import torch.optim as optim\n",
    "from torchvision import datasets, transforms\n",
    "from torch.optim.lr_scheduler import StepLR\n",
    "\n",
    "import mlflow\n",
    "from mlflow import pytorch\n",
    "\n",
    "import os\n",
    "from urllib.parse import urlparse"
   ]
  },
  {
   "cell_type": "markdown",
   "metadata": {
    "pycharm": {
     "name": "#%% md\n"
    }
   },
   "source": [
    "## Network "
   ]
  },
  {
   "cell_type": "code",
   "execution_count": 61,
   "metadata": {
    "pycharm": {
     "is_executing": false,
     "name": "#%%\n"
    }
   },
   "outputs": [],
   "source": [
    "class Net(nn.Module):\n",
    "    def __init__(self):\n",
    "        super(Net, self).__init__()\n",
    "        self.conv1 = nn.Conv2d(1, 32, 3, 1)\n",
    "        self.conv2 = nn.Conv2d(32, 64, 3, 1)\n",
    "        self.dropout1 = nn.Dropout2d(0.25)\n",
    "        self.dropout2 = nn.Dropout2d(0.5)\n",
    "        self.fc1 = nn.Linear(9216, 128)\n",
    "        self.fc2 = nn.Linear(128, 10)\n",
    "\n",
    "    def forward(self, x):\n",
    "        x = self.conv1(x)\n",
    "        x = F.relu(x)\n",
    "        x = self.conv2(x)\n",
    "        x = F.relu(x)\n",
    "        x = F.max_pool2d(x, 2)\n",
    "        x = self.dropout1(x)\n",
    "        x = torch.flatten(x, 1)\n",
    "        x = self.fc1(x)\n",
    "        x = F.relu(x)\n",
    "        x = self.dropout2(x)\n",
    "        x = self.fc2(x)\n",
    "        output = F.log_softmax(x, dim=1)\n",
    "        return output\n",
    "    "
   ]
  },
  {
   "cell_type": "markdown",
   "metadata": {
    "pycharm": {
     "name": "#%% md\n"
    }
   },
   "source": [
    "## Train and test functions"
   ]
  },
  {
   "cell_type": "code",
   "execution_count": 62,
   "metadata": {
    "pycharm": {
     "is_executing": false,
     "name": "#%%\n"
    }
   },
   "outputs": [],
   "source": [
    "def train(args, model, device, train_loader, optimizer, epoch):\n",
    "    model.train()\n",
    "    for batch_idx, (data, target) in enumerate(train_loader):\n",
    "        data, target = data.to(device), target.to(device)\n",
    "        optimizer.zero_grad()\n",
    "        output = model(data)\n",
    "        loss = F.nll_loss(output, target)\n",
    "        loss.backward()\n",
    "        optimizer.step()\n",
    "        if batch_idx % args[\"log_interval\"] == 0:\n",
    "            # log loss metric\n",
    "            mlflow.log_metric(\"train_loss_item\", loss.item())\n",
    "            print('Train Epoch: {} [{}/{} ({:.0f}%)]\\tLoss: {:.6f}'.format(\n",
    "                epoch, batch_idx * len(data), len(train_loader.dataset),\n",
    "                100. * batch_idx / len(train_loader), loss.item()))\n",
    "\n",
    "\n",
    "def test(model, device, test_loader):\n",
    "    model.eval()\n",
    "    test_loss = 0\n",
    "    correct = 0\n",
    "    with torch.no_grad():\n",
    "        for data, target in test_loader:\n",
    "            data, target = data.to(device), target.to(device)\n",
    "            output = model(data)\n",
    "            test_loss += F.nll_loss(output, target, reduction='sum').item()  # sum up batch loss\n",
    "            pred = output.argmax(dim=1, keepdim=True)  # get the index of the max log-probability\n",
    "            correct += pred.eq(target.view_as(pred)).sum().item()\n",
    "\n",
    "    test_loss /= len(test_loader.dataset)\n",
    "    mlflow.log_metric(\"test_loss\", test_loss)\n",
    "\n",
    "    print('\\nTest set: Average loss: {:.4f}, Accuracy: {}/{} ({:.0f}%)\\n'.format(\n",
    "        test_loss, correct, len(test_loader.dataset),\n",
    "        100. * correct / len(test_loader.dataset)))\n",
    "    "
   ]
  },
  {
   "cell_type": "markdown",
   "metadata": {
    "pycharm": {
     "name": "#%% md\n"
    }
   },
   "source": [
    "## Main"
   ]
  },
  {
   "cell_type": "code",
   "execution_count": 63,
   "metadata": {},
   "outputs": [],
   "source": [
    "def get_run_info(active_run):\n",
    "    return active_run.info\n",
    "\n",
    "def get_artifact_path(active_run):\n",
    "    p = urlparse(active_run.info.artifact_uri)\n",
    "    final_path = os.path.abspath(os.path.join(p.netloc, p.path))\n",
    "    return final_path"
   ]
  },
  {
   "cell_type": "code",
   "execution_count": 64,
   "metadata": {
    "pycharm": {
     "is_executing": false,
     "name": "#%%\n"
    }
   },
   "outputs": [],
   "source": [
    "def main(params=None):\n",
    "    # Training settings\n",
    "    args = params\n",
    "    \n",
    "    with mlflow.start_run():\n",
    "        active_run = mlflow.active_run()\n",
    "        artifact_path = get_artifact_path(active_run)\n",
    "        print(artifact_path)\n",
    "        \n",
    "        # use mlflow to log params\n",
    "        mlflow.log_params(args)\n",
    "        \n",
    "        use_cuda = not args[\"no_cuda\"] and torch.cuda.is_available()\n",
    "    \n",
    "        torch.manual_seed(args[\"seed\"])\n",
    "    \n",
    "        device = torch.device(\"cuda\" if use_cuda else \"cpu\")\n",
    "        # log device\n",
    "        mlflow.log_param(\"device\", device)\n",
    "    \n",
    "        kwargs = {'num_workers': 1, 'pin_memory': True} if use_cuda else {}\n",
    "        train_loader = torch.utils.data.DataLoader(\n",
    "            datasets.MNIST('../data', train=True, download=True,\n",
    "                           transform=transforms.Compose([\n",
    "                               transforms.ToTensor(),\n",
    "                               transforms.Normalize((0.1307,), (0.3081,))\n",
    "                           ])),\n",
    "            batch_size=args[\"batch_size\"], shuffle=True, **kwargs)\n",
    "        test_loader = torch.utils.data.DataLoader(\n",
    "            datasets.MNIST('../data', train=False, transform=transforms.Compose([\n",
    "                               transforms.ToTensor(),\n",
    "                               transforms.Normalize((0.1307,), (0.3081,))\n",
    "                           ])),\n",
    "            batch_size=args[\"test_batch_size\"], shuffle=True, **kwargs)\n",
    "    \n",
    "        model = Net().to(device)\n",
    "        optimizer = optim.Adadelta(model.parameters(), lr=args[\"lr\"])\n",
    "        scheduler = StepLR(optimizer, step_size=1, gamma=args[\"gamma\"])\n",
    "        for epoch in range(1, args[\"epochs\"] + 1):\n",
    "            train(args, model, device, train_loader, optimizer, epoch)\n",
    "            test(model, device, test_loader)\n",
    "            # save checkpoint\n",
    "            pytorch.save_model(model, f\"{artifact_path}/mnist_cnn_epoch_{epoch}\")\n",
    "            scheduler.step()\n",
    "    \n",
    "        if args[\"save_model\"]:\n",
    "            pytorch.save_model(model, f\"{artifact_path}/mnist_cnn_final\")"
   ]
  },
  {
   "cell_type": "code",
   "execution_count": 65,
   "metadata": {
    "pycharm": {
     "is_executing": false,
     "name": "#%%\n"
    }
   },
   "outputs": [
    {
     "name": "stdout",
     "output_type": "stream",
     "text": [
      "/home/steffi/dev/CVP/test/mlflow-neptune-test/mlruns/0/dd95464df35e48f8b8368c95aabd8239/artifacts\n",
      "Train Epoch: 1 [0/60000 (0%)]\tLoss: 2.316244\n",
      "Train Epoch: 1 [1280/60000 (2%)]\tLoss: 1.028946\n",
      "Train Epoch: 1 [2560/60000 (4%)]\tLoss: 0.591973\n",
      "Train Epoch: 1 [3840/60000 (6%)]\tLoss: 0.749473\n",
      "Train Epoch: 1 [5120/60000 (9%)]\tLoss: 0.525074\n",
      "Train Epoch: 1 [6400/60000 (11%)]\tLoss: 0.340358\n",
      "Train Epoch: 1 [7680/60000 (13%)]\tLoss: 0.281792\n",
      "Train Epoch: 1 [8960/60000 (15%)]\tLoss: 0.329288\n",
      "Train Epoch: 1 [10240/60000 (17%)]\tLoss: 0.190677\n",
      "Train Epoch: 1 [11520/60000 (19%)]\tLoss: 0.240949\n",
      "Train Epoch: 1 [12800/60000 (21%)]\tLoss: 0.280952\n",
      "Train Epoch: 1 [14080/60000 (23%)]\tLoss: 0.201814\n",
      "Train Epoch: 1 [15360/60000 (26%)]\tLoss: 0.174715\n",
      "Train Epoch: 1 [16640/60000 (28%)]\tLoss: 0.098761\n",
      "Train Epoch: 1 [17920/60000 (30%)]\tLoss: 0.288843\n",
      "Train Epoch: 1 [19200/60000 (32%)]\tLoss: 0.214211\n",
      "Train Epoch: 1 [20480/60000 (34%)]\tLoss: 0.252723\n",
      "Train Epoch: 1 [21760/60000 (36%)]\tLoss: 0.108409\n",
      "Train Epoch: 1 [23040/60000 (38%)]\tLoss: 0.112423\n",
      "Train Epoch: 1 [24320/60000 (41%)]\tLoss: 0.108897\n",
      "Train Epoch: 1 [25600/60000 (43%)]\tLoss: 0.173918\n",
      "Train Epoch: 1 [26880/60000 (45%)]\tLoss: 0.165544\n",
      "Train Epoch: 1 [28160/60000 (47%)]\tLoss: 0.146848\n",
      "Train Epoch: 1 [29440/60000 (49%)]\tLoss: 0.166094\n",
      "Train Epoch: 1 [30720/60000 (51%)]\tLoss: 0.155767\n",
      "Train Epoch: 1 [32000/60000 (53%)]\tLoss: 0.066969\n",
      "Train Epoch: 1 [33280/60000 (55%)]\tLoss: 0.135544\n",
      "Train Epoch: 1 [34560/60000 (58%)]\tLoss: 0.187326\n",
      "Train Epoch: 1 [35840/60000 (60%)]\tLoss: 0.090893\n",
      "Train Epoch: 1 [37120/60000 (62%)]\tLoss: 0.145054\n",
      "Train Epoch: 1 [38400/60000 (64%)]\tLoss: 0.204970\n",
      "Train Epoch: 1 [39680/60000 (66%)]\tLoss: 0.142409\n",
      "Train Epoch: 1 [40960/60000 (68%)]\tLoss: 0.091927\n",
      "Train Epoch: 1 [42240/60000 (70%)]\tLoss: 0.104197\n",
      "Train Epoch: 1 [43520/60000 (72%)]\tLoss: 0.066424\n",
      "Train Epoch: 1 [44800/60000 (75%)]\tLoss: 0.113572\n",
      "Train Epoch: 1 [46080/60000 (77%)]\tLoss: 0.059228\n",
      "Train Epoch: 1 [47360/60000 (79%)]\tLoss: 0.056736\n",
      "Train Epoch: 1 [48640/60000 (81%)]\tLoss: 0.139079\n",
      "Train Epoch: 1 [49920/60000 (83%)]\tLoss: 0.129627\n",
      "Train Epoch: 1 [51200/60000 (85%)]\tLoss: 0.193815\n",
      "Train Epoch: 1 [52480/60000 (87%)]\tLoss: 0.025984\n",
      "Train Epoch: 1 [53760/60000 (90%)]\tLoss: 0.107317\n",
      "Train Epoch: 1 [55040/60000 (92%)]\tLoss: 0.149728\n",
      "Train Epoch: 1 [56320/60000 (94%)]\tLoss: 0.067368\n",
      "Train Epoch: 1 [57600/60000 (96%)]\tLoss: 0.092657\n",
      "Train Epoch: 1 [58880/60000 (98%)]\tLoss: 0.081692\n",
      "\n",
      "Test set: Average loss: 0.0556, Accuracy: 9818/10000 (98%)\n",
      "\n",
      "Train Epoch: 2 [0/60000 (0%)]\tLoss: 0.108275\n",
      "Train Epoch: 2 [1280/60000 (2%)]\tLoss: 0.071333\n",
      "Train Epoch: 2 [2560/60000 (4%)]\tLoss: 0.042033\n",
      "Train Epoch: 2 [3840/60000 (6%)]\tLoss: 0.033633\n",
      "Train Epoch: 2 [5120/60000 (9%)]\tLoss: 0.130321\n",
      "Train Epoch: 2 [6400/60000 (11%)]\tLoss: 0.037752\n",
      "Train Epoch: 2 [7680/60000 (13%)]\tLoss: 0.058175\n",
      "Train Epoch: 2 [8960/60000 (15%)]\tLoss: 0.034949\n",
      "Train Epoch: 2 [10240/60000 (17%)]\tLoss: 0.062864\n",
      "Train Epoch: 2 [11520/60000 (19%)]\tLoss: 0.095606\n",
      "Train Epoch: 2 [12800/60000 (21%)]\tLoss: 0.063547\n",
      "Train Epoch: 2 [14080/60000 (23%)]\tLoss: 0.062653\n",
      "Train Epoch: 2 [15360/60000 (26%)]\tLoss: 0.072582\n",
      "Train Epoch: 2 [16640/60000 (28%)]\tLoss: 0.034738\n",
      "Train Epoch: 2 [17920/60000 (30%)]\tLoss: 0.066775\n",
      "Train Epoch: 2 [19200/60000 (32%)]\tLoss: 0.031852\n",
      "Train Epoch: 2 [20480/60000 (34%)]\tLoss: 0.178611\n",
      "Train Epoch: 2 [21760/60000 (36%)]\tLoss: 0.093723\n",
      "Train Epoch: 2 [23040/60000 (38%)]\tLoss: 0.127913\n",
      "Train Epoch: 2 [24320/60000 (41%)]\tLoss: 0.044768\n",
      "Train Epoch: 2 [25600/60000 (43%)]\tLoss: 0.038158\n",
      "Train Epoch: 2 [26880/60000 (45%)]\tLoss: 0.135571\n",
      "Train Epoch: 2 [28160/60000 (47%)]\tLoss: 0.084824\n",
      "Train Epoch: 2 [29440/60000 (49%)]\tLoss: 0.061559\n",
      "Train Epoch: 2 [30720/60000 (51%)]\tLoss: 0.053068\n",
      "Train Epoch: 2 [32000/60000 (53%)]\tLoss: 0.097446\n",
      "Train Epoch: 2 [33280/60000 (55%)]\tLoss: 0.041810\n",
      "Train Epoch: 2 [34560/60000 (58%)]\tLoss: 0.059666\n",
      "Train Epoch: 2 [35840/60000 (60%)]\tLoss: 0.071383\n",
      "Train Epoch: 2 [37120/60000 (62%)]\tLoss: 0.122260\n",
      "Train Epoch: 2 [38400/60000 (64%)]\tLoss: 0.041122\n",
      "Train Epoch: 2 [39680/60000 (66%)]\tLoss: 0.079876\n",
      "Train Epoch: 2 [40960/60000 (68%)]\tLoss: 0.089828\n",
      "Train Epoch: 2 [42240/60000 (70%)]\tLoss: 0.064296\n",
      "Train Epoch: 2 [43520/60000 (72%)]\tLoss: 0.055129\n",
      "Train Epoch: 2 [44800/60000 (75%)]\tLoss: 0.120046\n",
      "Train Epoch: 2 [46080/60000 (77%)]\tLoss: 0.147073\n",
      "Train Epoch: 2 [47360/60000 (79%)]\tLoss: 0.043457\n",
      "Train Epoch: 2 [48640/60000 (81%)]\tLoss: 0.069634\n",
      "Train Epoch: 2 [49920/60000 (83%)]\tLoss: 0.106789\n",
      "Train Epoch: 2 [51200/60000 (85%)]\tLoss: 0.105071\n",
      "Train Epoch: 2 [52480/60000 (87%)]\tLoss: 0.091701\n",
      "Train Epoch: 2 [53760/60000 (90%)]\tLoss: 0.089225\n",
      "Train Epoch: 2 [55040/60000 (92%)]\tLoss: 0.076071\n",
      "Train Epoch: 2 [56320/60000 (94%)]\tLoss: 0.020605\n",
      "Train Epoch: 2 [57600/60000 (96%)]\tLoss: 0.119092\n",
      "Train Epoch: 2 [58880/60000 (98%)]\tLoss: 0.094065\n",
      "\n",
      "Test set: Average loss: 0.0371, Accuracy: 9873/10000 (99%)\n",
      "\n",
      "Train Epoch: 3 [0/60000 (0%)]\tLoss: 0.049657\n",
      "Train Epoch: 3 [1280/60000 (2%)]\tLoss: 0.041346\n",
      "Train Epoch: 3 [2560/60000 (4%)]\tLoss: 0.015085\n",
      "Train Epoch: 3 [3840/60000 (6%)]\tLoss: 0.026793\n",
      "Train Epoch: 3 [5120/60000 (9%)]\tLoss: 0.014980\n",
      "Train Epoch: 3 [6400/60000 (11%)]\tLoss: 0.010153\n",
      "Train Epoch: 3 [7680/60000 (13%)]\tLoss: 0.096106\n",
      "Train Epoch: 3 [8960/60000 (15%)]\tLoss: 0.027126\n",
      "Train Epoch: 3 [10240/60000 (17%)]\tLoss: 0.134400\n",
      "Train Epoch: 3 [11520/60000 (19%)]\tLoss: 0.099562\n",
      "Train Epoch: 3 [12800/60000 (21%)]\tLoss: 0.047452\n",
      "Train Epoch: 3 [14080/60000 (23%)]\tLoss: 0.118170\n",
      "Train Epoch: 3 [15360/60000 (26%)]\tLoss: 0.077590\n",
      "Train Epoch: 3 [16640/60000 (28%)]\tLoss: 0.069277\n",
      "Train Epoch: 3 [17920/60000 (30%)]\tLoss: 0.130236\n",
      "Train Epoch: 3 [19200/60000 (32%)]\tLoss: 0.019113\n",
      "Train Epoch: 3 [20480/60000 (34%)]\tLoss: 0.058937\n",
      "Train Epoch: 3 [21760/60000 (36%)]\tLoss: 0.059451\n",
      "Train Epoch: 3 [23040/60000 (38%)]\tLoss: 0.011115\n",
      "Train Epoch: 3 [24320/60000 (41%)]\tLoss: 0.133731\n",
      "Train Epoch: 3 [25600/60000 (43%)]\tLoss: 0.086272\n",
      "Train Epoch: 3 [26880/60000 (45%)]\tLoss: 0.073805\n",
      "Train Epoch: 3 [28160/60000 (47%)]\tLoss: 0.083412\n",
      "Train Epoch: 3 [29440/60000 (49%)]\tLoss: 0.065082\n",
      "Train Epoch: 3 [30720/60000 (51%)]\tLoss: 0.034574\n",
      "Train Epoch: 3 [32000/60000 (53%)]\tLoss: 0.046300\n",
      "Train Epoch: 3 [33280/60000 (55%)]\tLoss: 0.037210\n",
      "Train Epoch: 3 [34560/60000 (58%)]\tLoss: 0.076572\n",
      "Train Epoch: 3 [35840/60000 (60%)]\tLoss: 0.038700\n",
      "Train Epoch: 3 [37120/60000 (62%)]\tLoss: 0.021747\n",
      "Train Epoch: 3 [38400/60000 (64%)]\tLoss: 0.109103\n",
      "Train Epoch: 3 [39680/60000 (66%)]\tLoss: 0.064605\n",
      "Train Epoch: 3 [40960/60000 (68%)]\tLoss: 0.029261\n",
      "Train Epoch: 3 [42240/60000 (70%)]\tLoss: 0.064398\n",
      "Train Epoch: 3 [43520/60000 (72%)]\tLoss: 0.037637\n",
      "Train Epoch: 3 [44800/60000 (75%)]\tLoss: 0.005422\n",
      "Train Epoch: 3 [46080/60000 (77%)]\tLoss: 0.033194\n",
      "Train Epoch: 3 [47360/60000 (79%)]\tLoss: 0.077827\n",
      "Train Epoch: 3 [48640/60000 (81%)]\tLoss: 0.093045\n",
      "Train Epoch: 3 [49920/60000 (83%)]\tLoss: 0.043864\n",
      "Train Epoch: 3 [51200/60000 (85%)]\tLoss: 0.052913\n",
      "Train Epoch: 3 [52480/60000 (87%)]\tLoss: 0.057488\n",
      "Train Epoch: 3 [53760/60000 (90%)]\tLoss: 0.024478\n",
      "Train Epoch: 3 [55040/60000 (92%)]\tLoss: 0.015834\n",
      "Train Epoch: 3 [56320/60000 (94%)]\tLoss: 0.028383\n",
      "Train Epoch: 3 [57600/60000 (96%)]\tLoss: 0.103399\n",
      "Train Epoch: 3 [58880/60000 (98%)]\tLoss: 0.030590\n",
      "\n",
      "Test set: Average loss: 0.0318, Accuracy: 9888/10000 (99%)\n",
      "\n"
     ]
    }
   ],
   "source": [
    "PARAMS = {\n",
    "    \"batch_size\": 128,\n",
    "    \"test_batch_size\": 1000,\n",
    "    \"epochs\": 3,\n",
    "    \"lr\": 1.0,\n",
    "    \"gamma\": 0.7,\n",
    "    \"no_cuda\": False,\n",
    "    \"seed\": 1,\n",
    "    \"log_interval\": 10,\n",
    "    \"save_model\": True\n",
    "}\n",
    "main(params=PARAMS)"
   ]
  },
  {
   "cell_type": "code",
   "execution_count": null,
   "metadata": {},
   "outputs": [],
   "source": []
  }
 ],
 "metadata": {
  "kernelspec": {
   "display_name": "Python 3",
   "language": "python",
   "name": "python3"
  },
  "language_info": {
   "codemirror_mode": {
    "name": "ipython",
    "version": 3
   },
   "file_extension": ".py",
   "mimetype": "text/x-python",
   "name": "python",
   "nbconvert_exporter": "python",
   "pygments_lexer": "ipython3",
   "version": "3.7.5"
  },
  "pycharm": {
   "stem_cell": {
    "cell_type": "raw",
    "metadata": {
     "collapsed": false
    },
    "source": []
   }
  }
 },
 "nbformat": 4,
 "nbformat_minor": 1
}
