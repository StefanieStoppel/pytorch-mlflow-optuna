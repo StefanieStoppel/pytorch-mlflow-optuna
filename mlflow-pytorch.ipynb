{
 "cells": [
  {
   "cell_type": "markdown",
   "metadata": {
    "collapsed": true,
    "pycharm": {
     "is_executing": false,
     "name": "#%% md\n"
    }
   },
   "source": [
    "# Training a PyTorch MNIST model with MlFlow and Optuna"
   ]
  },
  {
   "cell_type": "markdown",
   "metadata": {},
   "source": [
    "## Imports"
   ]
  },
  {
   "cell_type": "code",
   "execution_count": 34,
   "metadata": {
    "pycharm": {
     "name": "#%%\n"
    }
   },
   "outputs": [],
   "source": [
    "from __future__ import print_function\n",
    "import os\n",
    "import time\n",
    "\n",
    "import optuna\n",
    "import mlflow\n",
    "import torch\n",
    "\n",
    "import torch.nn as nn\n",
    "import torch.nn.functional as F\n",
    "import torch.optim as optim\n",
    "\n",
    "from torchvision import datasets, transforms\n",
    "from torch.optim.lr_scheduler import StepLR\n",
    "from mlflow import pytorch\n",
    "from urllib.parse import urlparse"
   ]
  },
  {
   "cell_type": "markdown",
   "metadata": {
    "pycharm": {
     "name": "#%% md\n"
    }
   },
   "source": [
    "## Network "
   ]
  },
  {
   "cell_type": "code",
   "execution_count": 35,
   "metadata": {
    "pycharm": {
     "name": "#%%\n"
    }
   },
   "outputs": [],
   "source": [
    "class Net(nn.Module):\n",
    "    def __init__(self):\n",
    "        super(Net, self).__init__()\n",
    "        self.conv1 = nn.Conv2d(1, 32, 3, 1)\n",
    "        self.conv2 = nn.Conv2d(32, 64, 3, 1)\n",
    "        self.dropout1 = nn.Dropout2d(0.25)\n",
    "        self.dropout2 = nn.Dropout2d(0.5)\n",
    "        self.fc1 = nn.Linear(9216, 128)\n",
    "        self.fc2 = nn.Linear(128, 10)\n",
    "\n",
    "    def forward(self, x):\n",
    "        x = self.conv1(x)\n",
    "        x = F.relu(x)\n",
    "        x = self.conv2(x)\n",
    "        x = F.relu(x)\n",
    "        x = F.max_pool2d(x, 2)\n",
    "        x = self.dropout1(x)\n",
    "        x = torch.flatten(x, 1)\n",
    "        x = self.fc1(x)\n",
    "        x = F.relu(x)\n",
    "        x = self.dropout2(x)\n",
    "        x = self.fc2(x)\n",
    "        output = F.log_softmax(x, dim=1)\n",
    "        return output\n",
    "    "
   ]
  },
  {
   "cell_type": "markdown",
   "metadata": {
    "pycharm": {
     "name": "#%% md\n"
    }
   },
   "source": [
    "## Train and validation functions"
   ]
  },
  {
   "cell_type": "code",
   "execution_count": 36,
   "metadata": {
    "pycharm": {
     "name": "#%%\n"
    }
   },
   "outputs": [],
   "source": [
    "def train(args, model, device, train_loader, optimizer, epoch):\n",
    "    model.train()\n",
    "    train_set_size = len(train_loader.dataset)\n",
    "    for batch_idx, (data, target) in enumerate(train_loader):\n",
    "        data, target = data.to(device), target.to(device)\n",
    "        optimizer.zero_grad()\n",
    "        output = model(data)\n",
    "        loss = F.nll_loss(output, target)\n",
    "        loss.backward()\n",
    "        optimizer.step()\n",
    "        if batch_idx % args[\"log_interval\"] == 0:\n",
    "            # Log batch loss using mlflow\n",
    "            mlflow.log_metric(\"train_batch_loss\", loss.item())\n",
    "            batch_size = len(data)\n",
    "            print(f\"Train Epoch: {epoch} [{batch_idx * batch_size}/{train_set_size} \"\n",
    "                  f\"({100. * batch_idx / train_set_size:.0f}%)]\\tLoss: {loss.item():.6f}\")\n",
    "\n",
    "\n",
    "def test(model, device, test_loader):\n",
    "    model.eval()\n",
    "    test_set_size = len(test_loader.dataset)\n",
    "    test_loss = 0\n",
    "    correct = 0\n",
    "    with torch.no_grad():\n",
    "        for data, target in test_loader:\n",
    "            data, target = data.to(device), target.to(device)\n",
    "            output = model(data)\n",
    "            test_loss += F.nll_loss(output, target, reduction='sum').item()  # sum up batch loss\n",
    "            pred = output.argmax(dim=1, keepdim=True)  # get the index of the max log-probability\n",
    "            correct += pred.eq(target.view_as(pred)).sum().item()\n",
    "\n",
    "    test_loss /= test_set_size\n",
    "    mlflow.log_metric(\"test_loss\", test_loss)\n",
    "\n",
    "    print(f\"Test set: Average loss: {test_loss:.4f}, Accuracy: {correct}/{test_set_size} \"\n",
    "          f\"({100. * correct / test_set_size:.0f}%)\")"
   ]
  },
  {
   "cell_type": "markdown",
   "metadata": {
    "pycharm": {
     "name": "#%% md\n"
    }
   },
   "source": [
    "## Main"
   ]
  },
  {
   "cell_type": "code",
   "execution_count": 37,
   "metadata": {},
   "outputs": [],
   "source": [
    "def get_artifact_path(active_run):\n",
    "    parsed_uri = urlparse(active_run.info.artifact_uri)\n",
    "    artifact_path = os.path.abspath(os.path.join(parsed_uri.netloc, parsed_uri.path))\n",
    "    return artifact_path"
   ]
  },
  {
   "cell_type": "code",
   "execution_count": 38,
   "metadata": {
    "pycharm": {
     "name": "#%%\n"
    }
   },
   "outputs": [],
   "source": [
    "def objective(trial, experiment, params=None):\n",
    "    # Start mlflow run\n",
    "    with mlflow.start_run(experiment_id=experiment.experiment_id):\n",
    "        active_run = mlflow.active_run()\n",
    "        artifact_path = get_artifact_path(active_run)\n",
    "        print(f\"Artifact path for this run: {artifact_path}\")\n",
    "        \n",
    "        # Use mlflow to log params\n",
    "        mlflow.log_params(params)\n",
    "\n",
    "        # Use CUDA if GPU is available\n",
    "        use_cuda = params[\"use_cuda\"] and torch.cuda.is_available()\n",
    "        device = torch.device(\"cuda\" if use_cuda else \"cpu\")\n",
    "        # Log mlflow device parameter\n",
    "        mlflow.log_param(\"device\", device)\n",
    "\n",
    "        torch.manual_seed(params[\"seed\"])\n",
    "\n",
    "        # Load the MNIST train and test dataset and save it to ./data\n",
    "        mnist_train = datasets.MNIST('./data', train=True, download=True, transform=transforms.Compose([\n",
    "                                           transforms.ToTensor(),\n",
    "                                           transforms.Normalize((0.1307,), (0.3081,))\n",
    "                                       ]))\n",
    "        train_loader = torch.utils.data.DataLoader(mnist_train,\n",
    "                                                   batch_size=params[\"batch_size\"],\n",
    "                                                   shuffle=True)\n",
    "        mnist_test = datasets.MNIST('./data', train=False, download=True, transform=transforms.Compose([\n",
    "                                           transforms.ToTensor(),\n",
    "                                           transforms.Normalize((0.1307,), (0.3081,))\n",
    "                                       ]))\n",
    "        test_loader = torch.utils.data.DataLoader(mnist_test,\n",
    "                                                  batch_size=params[\"validation_batch_size\"],\n",
    "                                                  shuffle=True)\n",
    "\n",
    "        model = Net().to(device)\n",
    "        optimizer = optim.Adam(model.parameters(), lr=params[\"lr\"])\n",
    "        scheduler = StepLR(optimizer, step_size=1, gamma=params[\"gamma\"])\n",
    "\n",
    "        for epoch in range(0, params[\"epochs\"]):\n",
    "            train(params, model, device, train_loader, optimizer, epoch)\n",
    "            test(model, device, test_loader)\n",
    "            scheduler.step()\n",
    "    \n",
    "        if params[\"save_model\"]:\n",
    "            pytorch.save_model(model, f\"{artifact_path}/mnist_model\")"
   ]
  },
  {
   "cell_type": "code",
   "execution_count": 39,
   "outputs": [],
   "source": [
    "def main(params=None):\n",
    "    # create mlflow experiment if it doesn't exist already\n",
    "    experiment_name = params[\"experiment_name\"]\n",
    "    experiment = mlflow.get_experiment_by_name(experiment_name)\n",
    "    if experiment is None:\n",
    "        mlflow.create_experiment(experiment_name)\n",
    "        experiment = mlflow.get_experiment_by_name(experiment_name)\n",
    "    mlflow.set_experiment(experiment_name)\n",
    "\n",
    "    # Create the optuna study whih has the same name as the experiment\n",
    "    study = optuna.create_study(study_name=experiment_name, direction=\"minimize\")\n",
    "    study.optimize(lambda trial: objective(trial, experiment, params), n_trials=5)\n",
    "\n",
    "    pruned_trials = [t for t in study.trials if t.state == optuna.trial.TrialState.PRUNED]\n",
    "    complete_trials = [t for t in study.trials if t.state == optuna.trial.TrialState.COMPLETE]\n",
    "\n",
    "    print(\"Study statistics: \")\n",
    "    print(\"  Number of finished trials: \", len(study.trials))\n",
    "    print(\"  Number of pruned trials: \", len(pruned_trials))\n",
    "    print(\"  Number of complete trials: \", len(complete_trials))\n",
    "\n",
    "    print(\"Best trial:\")\n",
    "    trial = study.best_trial\n",
    "\n",
    "    print(\"  Value: \", trial.value)\n",
    "\n",
    "    print(\"  Params: \")\n",
    "    for key, value in trial.params.items():\n",
    "        print(\"    {}: {}\".format(key, value))\n"
   ],
   "metadata": {
    "collapsed": false,
    "pycharm": {
     "name": "#%%\n"
    }
   }
  },
  {
   "cell_type": "code",
   "execution_count": 40,
   "metadata": {
    "pycharm": {
     "name": "#%%\n"
    }
   },
   "outputs": [
    {
     "name": "stdout",
     "output_type": "stream",
     "text": [
      "Artifact path for this run: /home/steffi/dev/blog/pytorch-mlflow-optuna/mlruns/0/d951887ff4c0407db6d06574d378269e/artifacts\n",
      "Train Epoch: 0 [0/60000 (0%)]\tLoss: 2.330135\n",
      "Train Epoch: 0 [1280/60000 (0%)]\tLoss: 3.657842\n",
      "Train Epoch: 0 [2560/60000 (0%)]\tLoss: 2.596306\n",
      "Train Epoch: 0 [3840/60000 (0%)]\tLoss: 2.328610\n",
      "Train Epoch: 0 [5120/60000 (0%)]\tLoss: 2.325323\n",
      "Train Epoch: 0 [6400/60000 (0%)]\tLoss: 2.343570\n",
      "Train Epoch: 0 [7680/60000 (0%)]\tLoss: 2.347873\n",
      "Train Epoch: 0 [8960/60000 (0%)]\tLoss: 2.345505\n",
      "Train Epoch: 0 [10240/60000 (0%)]\tLoss: 2.312938\n",
      "Train Epoch: 0 [11520/60000 (0%)]\tLoss: 2.287150\n",
      "Train Epoch: 0 [12800/60000 (0%)]\tLoss: 2.350554\n",
      "Train Epoch: 0 [14080/60000 (0%)]\tLoss: 2.364367\n",
      "Train Epoch: 0 [15360/60000 (0%)]\tLoss: 2.350597\n",
      "Train Epoch: 0 [16640/60000 (0%)]\tLoss: 2.422240\n",
      "Train Epoch: 0 [17920/60000 (0%)]\tLoss: 2.316475\n",
      "Train Epoch: 0 [19200/60000 (0%)]\tLoss: 2.314355\n",
      "Train Epoch: 0 [20480/60000 (0%)]\tLoss: 2.339597\n",
      "Train Epoch: 0 [21760/60000 (0%)]\tLoss: 2.380643\n",
      "Train Epoch: 0 [23040/60000 (0%)]\tLoss: 2.352929\n",
      "Train Epoch: 0 [24320/60000 (0%)]\tLoss: 2.357896\n",
      "Train Epoch: 0 [25600/60000 (0%)]\tLoss: 2.295648\n",
      "Train Epoch: 0 [26880/60000 (0%)]\tLoss: 2.329376\n",
      "Train Epoch: 0 [28160/60000 (0%)]\tLoss: 2.397068\n",
      "Train Epoch: 0 [29440/60000 (0%)]\tLoss: 2.358792\n",
      "Train Epoch: 0 [30720/60000 (0%)]\tLoss: 2.373948\n",
      "Train Epoch: 0 [32000/60000 (0%)]\tLoss: 2.325043\n",
      "Train Epoch: 0 [33280/60000 (0%)]\tLoss: 2.309704\n",
      "Train Epoch: 0 [34560/60000 (0%)]\tLoss: 2.312441\n",
      "Train Epoch: 0 [35840/60000 (0%)]\tLoss: 2.362451\n",
      "Train Epoch: 0 [37120/60000 (0%)]\tLoss: 2.297143\n",
      "Train Epoch: 0 [38400/60000 (0%)]\tLoss: 2.334060\n",
      "Train Epoch: 0 [39680/60000 (1%)]\tLoss: 2.330926\n",
      "Train Epoch: 0 [40960/60000 (1%)]\tLoss: 2.335660\n",
      "Train Epoch: 0 [42240/60000 (1%)]\tLoss: 2.306046\n",
      "Train Epoch: 0 [43520/60000 (1%)]\tLoss: 2.322198\n",
      "Train Epoch: 0 [44800/60000 (1%)]\tLoss: 2.306574\n",
      "Train Epoch: 0 [46080/60000 (1%)]\tLoss: 2.340910\n",
      "Train Epoch: 0 [47360/60000 (1%)]\tLoss: 2.305064\n",
      "Train Epoch: 0 [48640/60000 (1%)]\tLoss: 2.368758\n",
      "Train Epoch: 0 [49920/60000 (1%)]\tLoss: 2.359640\n",
      "Train Epoch: 0 [51200/60000 (1%)]\tLoss: 2.415263\n",
      "Train Epoch: 0 [52480/60000 (1%)]\tLoss: 2.310055\n",
      "Train Epoch: 0 [53760/60000 (1%)]\tLoss: 2.387316\n",
      "Train Epoch: 0 [55040/60000 (1%)]\tLoss: 2.367218\n",
      "Train Epoch: 0 [56320/60000 (1%)]\tLoss: 2.341066\n",
      "Train Epoch: 0 [57600/60000 (1%)]\tLoss: 2.361605\n",
      "Train Epoch: 0 [58880/60000 (1%)]\tLoss: 2.343346\n",
      "Test set: Average loss: 2.3825, Accuracy: 974/10000 (10%)\n",
      "Train Epoch: 1 [0/60000 (0%)]\tLoss: 2.321467\n",
      "Train Epoch: 1 [1280/60000 (0%)]\tLoss: 2.303800\n",
      "Train Epoch: 1 [2560/60000 (0%)]\tLoss: 2.377959\n",
      "Train Epoch: 1 [3840/60000 (0%)]\tLoss: 2.339057\n",
      "Train Epoch: 1 [5120/60000 (0%)]\tLoss: 2.337916\n",
      "Train Epoch: 1 [6400/60000 (0%)]\tLoss: 2.376292\n",
      "Train Epoch: 1 [7680/60000 (0%)]\tLoss: 2.356169\n",
      "Train Epoch: 1 [8960/60000 (0%)]\tLoss: 2.340376\n",
      "Train Epoch: 1 [10240/60000 (0%)]\tLoss: 2.340192\n",
      "Train Epoch: 1 [11520/60000 (0%)]\tLoss: 2.311092\n",
      "Train Epoch: 1 [12800/60000 (0%)]\tLoss: 2.329831\n",
      "Train Epoch: 1 [14080/60000 (0%)]\tLoss: 2.312453\n",
      "Train Epoch: 1 [15360/60000 (0%)]\tLoss: 2.313458\n",
      "Train Epoch: 1 [16640/60000 (0%)]\tLoss: 2.333778\n"
     ]
    },
    {
     "ename": "KeyboardInterrupt",
     "evalue": "",
     "output_type": "error",
     "traceback": [
      "\u001B[0;31m---------------------------------------------------------------------------\u001B[0m",
      "\u001B[0;31mKeyboardInterrupt\u001B[0m                         Traceback (most recent call last)",
      "\u001B[0;32m<ipython-input-40-725bffc08548>\u001B[0m in \u001B[0;36m<module>\u001B[0;34m\u001B[0m\n\u001B[1;32m     11\u001B[0m     \u001B[0;34m\"save_model\"\u001B[0m\u001B[0;34m:\u001B[0m \u001B[0;32mTrue\u001B[0m\u001B[0;34m\u001B[0m\u001B[0;34m\u001B[0m\u001B[0m\n\u001B[1;32m     12\u001B[0m }\n\u001B[0;32m---> 13\u001B[0;31m \u001B[0mmain\u001B[0m\u001B[0;34m(\u001B[0m\u001B[0mparams\u001B[0m\u001B[0;34m=\u001B[0m\u001B[0mPARAMS\u001B[0m\u001B[0;34m)\u001B[0m\u001B[0;34m\u001B[0m\u001B[0;34m\u001B[0m\u001B[0m\n\u001B[0m\u001B[1;32m     14\u001B[0m \u001B[0;34m\u001B[0m\u001B[0m\n",
      "\u001B[0;32m<ipython-input-39-f20c241e69ea>\u001B[0m in \u001B[0;36mmain\u001B[0;34m(params)\u001B[0m\n\u001B[1;32m     10\u001B[0m     \u001B[0;31m# Create the optuna study whih has the same name as the experiment\u001B[0m\u001B[0;34m\u001B[0m\u001B[0;34m\u001B[0m\u001B[0;34m\u001B[0m\u001B[0m\n\u001B[1;32m     11\u001B[0m     \u001B[0mstudy\u001B[0m \u001B[0;34m=\u001B[0m \u001B[0moptuna\u001B[0m\u001B[0;34m.\u001B[0m\u001B[0mcreate_study\u001B[0m\u001B[0;34m(\u001B[0m\u001B[0mstudy_name\u001B[0m\u001B[0;34m=\u001B[0m\u001B[0mexperiment_name\u001B[0m\u001B[0;34m,\u001B[0m \u001B[0mdirection\u001B[0m\u001B[0;34m=\u001B[0m\u001B[0;34m\"minimize\"\u001B[0m\u001B[0;34m)\u001B[0m\u001B[0;34m\u001B[0m\u001B[0;34m\u001B[0m\u001B[0m\n\u001B[0;32m---> 12\u001B[0;31m     \u001B[0mstudy\u001B[0m\u001B[0;34m.\u001B[0m\u001B[0moptimize\u001B[0m\u001B[0;34m(\u001B[0m\u001B[0;32mlambda\u001B[0m \u001B[0mtrial\u001B[0m\u001B[0;34m:\u001B[0m \u001B[0mobjective\u001B[0m\u001B[0;34m(\u001B[0m\u001B[0mtrial\u001B[0m\u001B[0;34m,\u001B[0m \u001B[0mexperiment\u001B[0m\u001B[0;34m,\u001B[0m \u001B[0mparams\u001B[0m\u001B[0;34m)\u001B[0m\u001B[0;34m,\u001B[0m \u001B[0mn_trials\u001B[0m\u001B[0;34m=\u001B[0m\u001B[0;36m5\u001B[0m\u001B[0;34m)\u001B[0m\u001B[0;34m\u001B[0m\u001B[0;34m\u001B[0m\u001B[0m\n\u001B[0m\u001B[1;32m     13\u001B[0m \u001B[0;34m\u001B[0m\u001B[0m\n\u001B[1;32m     14\u001B[0m     \u001B[0mpruned_trials\u001B[0m \u001B[0;34m=\u001B[0m \u001B[0;34m[\u001B[0m\u001B[0mt\u001B[0m \u001B[0;32mfor\u001B[0m \u001B[0mt\u001B[0m \u001B[0;32min\u001B[0m \u001B[0mstudy\u001B[0m\u001B[0;34m.\u001B[0m\u001B[0mtrials\u001B[0m \u001B[0;32mif\u001B[0m \u001B[0mt\u001B[0m\u001B[0;34m.\u001B[0m\u001B[0mstate\u001B[0m \u001B[0;34m==\u001B[0m \u001B[0moptuna\u001B[0m\u001B[0;34m.\u001B[0m\u001B[0mtrial\u001B[0m\u001B[0;34m.\u001B[0m\u001B[0mTrialState\u001B[0m\u001B[0;34m.\u001B[0m\u001B[0mPRUNED\u001B[0m\u001B[0;34m]\u001B[0m\u001B[0;34m\u001B[0m\u001B[0;34m\u001B[0m\u001B[0m\n",
      "\u001B[0;32m~/dev/blog/pytorch-mlflow-optuna/venv/lib/python3.7/site-packages/optuna/study.py\u001B[0m in \u001B[0;36moptimize\u001B[0;34m(self, func, n_trials, timeout, n_jobs, catch, callbacks, gc_after_trial, show_progress_bar)\u001B[0m\n\u001B[1;32m    337\u001B[0m             \u001B[0;32mif\u001B[0m \u001B[0mn_jobs\u001B[0m \u001B[0;34m==\u001B[0m \u001B[0;36m1\u001B[0m\u001B[0;34m:\u001B[0m\u001B[0;34m\u001B[0m\u001B[0;34m\u001B[0m\u001B[0m\n\u001B[1;32m    338\u001B[0m                 self._optimize_sequential(\n\u001B[0;32m--> 339\u001B[0;31m                     \u001B[0mfunc\u001B[0m\u001B[0;34m,\u001B[0m \u001B[0mn_trials\u001B[0m\u001B[0;34m,\u001B[0m \u001B[0mtimeout\u001B[0m\u001B[0;34m,\u001B[0m \u001B[0mcatch\u001B[0m\u001B[0;34m,\u001B[0m \u001B[0mcallbacks\u001B[0m\u001B[0;34m,\u001B[0m \u001B[0mgc_after_trial\u001B[0m\u001B[0;34m,\u001B[0m \u001B[0;32mNone\u001B[0m\u001B[0;34m\u001B[0m\u001B[0;34m\u001B[0m\u001B[0m\n\u001B[0m\u001B[1;32m    340\u001B[0m                 )\n\u001B[1;32m    341\u001B[0m             \u001B[0;32melse\u001B[0m\u001B[0;34m:\u001B[0m\u001B[0;34m\u001B[0m\u001B[0;34m\u001B[0m\u001B[0m\n",
      "\u001B[0;32m~/dev/blog/pytorch-mlflow-optuna/venv/lib/python3.7/site-packages/optuna/study.py\u001B[0m in \u001B[0;36m_optimize_sequential\u001B[0;34m(self, func, n_trials, timeout, catch, callbacks, gc_after_trial, time_start)\u001B[0m\n\u001B[1;32m    680\u001B[0m                     \u001B[0;32mbreak\u001B[0m\u001B[0;34m\u001B[0m\u001B[0;34m\u001B[0m\u001B[0m\n\u001B[1;32m    681\u001B[0m \u001B[0;34m\u001B[0m\u001B[0m\n\u001B[0;32m--> 682\u001B[0;31m             \u001B[0mself\u001B[0m\u001B[0;34m.\u001B[0m\u001B[0m_run_trial_and_callbacks\u001B[0m\u001B[0;34m(\u001B[0m\u001B[0mfunc\u001B[0m\u001B[0;34m,\u001B[0m \u001B[0mcatch\u001B[0m\u001B[0;34m,\u001B[0m \u001B[0mcallbacks\u001B[0m\u001B[0;34m,\u001B[0m \u001B[0mgc_after_trial\u001B[0m\u001B[0;34m)\u001B[0m\u001B[0;34m\u001B[0m\u001B[0;34m\u001B[0m\u001B[0m\n\u001B[0m\u001B[1;32m    683\u001B[0m \u001B[0;34m\u001B[0m\u001B[0m\n\u001B[1;32m    684\u001B[0m             \u001B[0mself\u001B[0m\u001B[0;34m.\u001B[0m\u001B[0m_progress_bar\u001B[0m\u001B[0;34m.\u001B[0m\u001B[0mupdate\u001B[0m\u001B[0;34m(\u001B[0m\u001B[0;34m(\u001B[0m\u001B[0mdatetime\u001B[0m\u001B[0;34m.\u001B[0m\u001B[0mdatetime\u001B[0m\u001B[0;34m.\u001B[0m\u001B[0mnow\u001B[0m\u001B[0;34m(\u001B[0m\u001B[0;34m)\u001B[0m \u001B[0;34m-\u001B[0m \u001B[0mtime_start\u001B[0m\u001B[0;34m)\u001B[0m\u001B[0;34m.\u001B[0m\u001B[0mtotal_seconds\u001B[0m\u001B[0;34m(\u001B[0m\u001B[0;34m)\u001B[0m\u001B[0;34m)\u001B[0m\u001B[0;34m\u001B[0m\u001B[0;34m\u001B[0m\u001B[0m\n",
      "\u001B[0;32m~/dev/blog/pytorch-mlflow-optuna/venv/lib/python3.7/site-packages/optuna/study.py\u001B[0m in \u001B[0;36m_run_trial_and_callbacks\u001B[0;34m(self, func, catch, callbacks, gc_after_trial)\u001B[0m\n\u001B[1;32m    711\u001B[0m         \u001B[0;31m# type: (...) -> None\u001B[0m\u001B[0;34m\u001B[0m\u001B[0;34m\u001B[0m\u001B[0;34m\u001B[0m\u001B[0m\n\u001B[1;32m    712\u001B[0m \u001B[0;34m\u001B[0m\u001B[0m\n\u001B[0;32m--> 713\u001B[0;31m         \u001B[0mtrial\u001B[0m \u001B[0;34m=\u001B[0m \u001B[0mself\u001B[0m\u001B[0;34m.\u001B[0m\u001B[0m_run_trial\u001B[0m\u001B[0;34m(\u001B[0m\u001B[0mfunc\u001B[0m\u001B[0;34m,\u001B[0m \u001B[0mcatch\u001B[0m\u001B[0;34m,\u001B[0m \u001B[0mgc_after_trial\u001B[0m\u001B[0;34m)\u001B[0m\u001B[0;34m\u001B[0m\u001B[0;34m\u001B[0m\u001B[0m\n\u001B[0m\u001B[1;32m    714\u001B[0m         \u001B[0;32mif\u001B[0m \u001B[0mcallbacks\u001B[0m \u001B[0;32mis\u001B[0m \u001B[0;32mnot\u001B[0m \u001B[0;32mNone\u001B[0m\u001B[0;34m:\u001B[0m\u001B[0;34m\u001B[0m\u001B[0;34m\u001B[0m\u001B[0m\n\u001B[1;32m    715\u001B[0m             \u001B[0mfrozen_trial\u001B[0m \u001B[0;34m=\u001B[0m \u001B[0mcopy\u001B[0m\u001B[0;34m.\u001B[0m\u001B[0mdeepcopy\u001B[0m\u001B[0;34m(\u001B[0m\u001B[0mself\u001B[0m\u001B[0;34m.\u001B[0m\u001B[0m_storage\u001B[0m\u001B[0;34m.\u001B[0m\u001B[0mget_trial\u001B[0m\u001B[0;34m(\u001B[0m\u001B[0mtrial\u001B[0m\u001B[0;34m.\u001B[0m\u001B[0m_trial_id\u001B[0m\u001B[0;34m)\u001B[0m\u001B[0;34m)\u001B[0m\u001B[0;34m\u001B[0m\u001B[0;34m\u001B[0m\u001B[0m\n",
      "\u001B[0;32m~/dev/blog/pytorch-mlflow-optuna/venv/lib/python3.7/site-packages/optuna/study.py\u001B[0m in \u001B[0;36m_run_trial\u001B[0;34m(self, func, catch, gc_after_trial)\u001B[0m\n\u001B[1;32m    732\u001B[0m \u001B[0;34m\u001B[0m\u001B[0m\n\u001B[1;32m    733\u001B[0m         \u001B[0;32mtry\u001B[0m\u001B[0;34m:\u001B[0m\u001B[0;34m\u001B[0m\u001B[0;34m\u001B[0m\u001B[0m\n\u001B[0;32m--> 734\u001B[0;31m             \u001B[0mresult\u001B[0m \u001B[0;34m=\u001B[0m \u001B[0mfunc\u001B[0m\u001B[0;34m(\u001B[0m\u001B[0mtrial\u001B[0m\u001B[0;34m)\u001B[0m\u001B[0;34m\u001B[0m\u001B[0;34m\u001B[0m\u001B[0m\n\u001B[0m\u001B[1;32m    735\u001B[0m         \u001B[0;32mexcept\u001B[0m \u001B[0mexceptions\u001B[0m\u001B[0;34m.\u001B[0m\u001B[0mTrialPruned\u001B[0m \u001B[0;32mas\u001B[0m \u001B[0me\u001B[0m\u001B[0;34m:\u001B[0m\u001B[0;34m\u001B[0m\u001B[0;34m\u001B[0m\u001B[0m\n\u001B[1;32m    736\u001B[0m             message = \"Setting status of trial#{} as {}. {}\".format(\n",
      "\u001B[0;32m<ipython-input-39-f20c241e69ea>\u001B[0m in \u001B[0;36m<lambda>\u001B[0;34m(trial)\u001B[0m\n\u001B[1;32m     10\u001B[0m     \u001B[0;31m# Create the optuna study whih has the same name as the experiment\u001B[0m\u001B[0;34m\u001B[0m\u001B[0;34m\u001B[0m\u001B[0;34m\u001B[0m\u001B[0m\n\u001B[1;32m     11\u001B[0m     \u001B[0mstudy\u001B[0m \u001B[0;34m=\u001B[0m \u001B[0moptuna\u001B[0m\u001B[0;34m.\u001B[0m\u001B[0mcreate_study\u001B[0m\u001B[0;34m(\u001B[0m\u001B[0mstudy_name\u001B[0m\u001B[0;34m=\u001B[0m\u001B[0mexperiment_name\u001B[0m\u001B[0;34m,\u001B[0m \u001B[0mdirection\u001B[0m\u001B[0;34m=\u001B[0m\u001B[0;34m\"minimize\"\u001B[0m\u001B[0;34m)\u001B[0m\u001B[0;34m\u001B[0m\u001B[0;34m\u001B[0m\u001B[0m\n\u001B[0;32m---> 12\u001B[0;31m     \u001B[0mstudy\u001B[0m\u001B[0;34m.\u001B[0m\u001B[0moptimize\u001B[0m\u001B[0;34m(\u001B[0m\u001B[0;32mlambda\u001B[0m \u001B[0mtrial\u001B[0m\u001B[0;34m:\u001B[0m \u001B[0mobjective\u001B[0m\u001B[0;34m(\u001B[0m\u001B[0mtrial\u001B[0m\u001B[0;34m,\u001B[0m \u001B[0mexperiment\u001B[0m\u001B[0;34m,\u001B[0m \u001B[0mparams\u001B[0m\u001B[0;34m)\u001B[0m\u001B[0;34m,\u001B[0m \u001B[0mn_trials\u001B[0m\u001B[0;34m=\u001B[0m\u001B[0;36m5\u001B[0m\u001B[0;34m)\u001B[0m\u001B[0;34m\u001B[0m\u001B[0;34m\u001B[0m\u001B[0m\n\u001B[0m\u001B[1;32m     13\u001B[0m \u001B[0;34m\u001B[0m\u001B[0m\n\u001B[1;32m     14\u001B[0m     \u001B[0mpruned_trials\u001B[0m \u001B[0;34m=\u001B[0m \u001B[0;34m[\u001B[0m\u001B[0mt\u001B[0m \u001B[0;32mfor\u001B[0m \u001B[0mt\u001B[0m \u001B[0;32min\u001B[0m \u001B[0mstudy\u001B[0m\u001B[0;34m.\u001B[0m\u001B[0mtrials\u001B[0m \u001B[0;32mif\u001B[0m \u001B[0mt\u001B[0m\u001B[0;34m.\u001B[0m\u001B[0mstate\u001B[0m \u001B[0;34m==\u001B[0m \u001B[0moptuna\u001B[0m\u001B[0;34m.\u001B[0m\u001B[0mtrial\u001B[0m\u001B[0;34m.\u001B[0m\u001B[0mTrialState\u001B[0m\u001B[0;34m.\u001B[0m\u001B[0mPRUNED\u001B[0m\u001B[0;34m]\u001B[0m\u001B[0;34m\u001B[0m\u001B[0;34m\u001B[0m\u001B[0m\n",
      "\u001B[0;32m<ipython-input-38-599a78d03df2>\u001B[0m in \u001B[0;36mobjective\u001B[0;34m(trial, experiment, params)\u001B[0m\n\u001B[1;32m     38\u001B[0m \u001B[0;34m\u001B[0m\u001B[0m\n\u001B[1;32m     39\u001B[0m         \u001B[0;32mfor\u001B[0m \u001B[0mepoch\u001B[0m \u001B[0;32min\u001B[0m \u001B[0mrange\u001B[0m\u001B[0;34m(\u001B[0m\u001B[0;36m0\u001B[0m\u001B[0;34m,\u001B[0m \u001B[0mparams\u001B[0m\u001B[0;34m[\u001B[0m\u001B[0;34m\"epochs\"\u001B[0m\u001B[0;34m]\u001B[0m\u001B[0;34m)\u001B[0m\u001B[0;34m:\u001B[0m\u001B[0;34m\u001B[0m\u001B[0;34m\u001B[0m\u001B[0m\n\u001B[0;32m---> 40\u001B[0;31m             \u001B[0mtrain\u001B[0m\u001B[0;34m(\u001B[0m\u001B[0mparams\u001B[0m\u001B[0;34m,\u001B[0m \u001B[0mmodel\u001B[0m\u001B[0;34m,\u001B[0m \u001B[0mdevice\u001B[0m\u001B[0;34m,\u001B[0m \u001B[0mtrain_loader\u001B[0m\u001B[0;34m,\u001B[0m \u001B[0moptimizer\u001B[0m\u001B[0;34m,\u001B[0m \u001B[0mepoch\u001B[0m\u001B[0;34m)\u001B[0m\u001B[0;34m\u001B[0m\u001B[0;34m\u001B[0m\u001B[0m\n\u001B[0m\u001B[1;32m     41\u001B[0m             \u001B[0mtest\u001B[0m\u001B[0;34m(\u001B[0m\u001B[0mmodel\u001B[0m\u001B[0;34m,\u001B[0m \u001B[0mdevice\u001B[0m\u001B[0;34m,\u001B[0m \u001B[0mtest_loader\u001B[0m\u001B[0;34m)\u001B[0m\u001B[0;34m\u001B[0m\u001B[0;34m\u001B[0m\u001B[0m\n\u001B[1;32m     42\u001B[0m             \u001B[0mscheduler\u001B[0m\u001B[0;34m.\u001B[0m\u001B[0mstep\u001B[0m\u001B[0;34m(\u001B[0m\u001B[0;34m)\u001B[0m\u001B[0;34m\u001B[0m\u001B[0;34m\u001B[0m\u001B[0m\n",
      "\u001B[0;32m<ipython-input-36-9a6c05327912>\u001B[0m in \u001B[0;36mtrain\u001B[0;34m(args, model, device, train_loader, optimizer, epoch)\u001B[0m\n\u001B[1;32m      7\u001B[0m         \u001B[0moutput\u001B[0m \u001B[0;34m=\u001B[0m \u001B[0mmodel\u001B[0m\u001B[0;34m(\u001B[0m\u001B[0mdata\u001B[0m\u001B[0;34m)\u001B[0m\u001B[0;34m\u001B[0m\u001B[0;34m\u001B[0m\u001B[0m\n\u001B[1;32m      8\u001B[0m         \u001B[0mloss\u001B[0m \u001B[0;34m=\u001B[0m \u001B[0mF\u001B[0m\u001B[0;34m.\u001B[0m\u001B[0mnll_loss\u001B[0m\u001B[0;34m(\u001B[0m\u001B[0moutput\u001B[0m\u001B[0;34m,\u001B[0m \u001B[0mtarget\u001B[0m\u001B[0;34m)\u001B[0m\u001B[0;34m\u001B[0m\u001B[0;34m\u001B[0m\u001B[0m\n\u001B[0;32m----> 9\u001B[0;31m         \u001B[0mloss\u001B[0m\u001B[0;34m.\u001B[0m\u001B[0mbackward\u001B[0m\u001B[0;34m(\u001B[0m\u001B[0;34m)\u001B[0m\u001B[0;34m\u001B[0m\u001B[0;34m\u001B[0m\u001B[0m\n\u001B[0m\u001B[1;32m     10\u001B[0m         \u001B[0moptimizer\u001B[0m\u001B[0;34m.\u001B[0m\u001B[0mstep\u001B[0m\u001B[0;34m(\u001B[0m\u001B[0;34m)\u001B[0m\u001B[0;34m\u001B[0m\u001B[0;34m\u001B[0m\u001B[0m\n\u001B[1;32m     11\u001B[0m         \u001B[0;32mif\u001B[0m \u001B[0mbatch_idx\u001B[0m \u001B[0;34m%\u001B[0m \u001B[0margs\u001B[0m\u001B[0;34m[\u001B[0m\u001B[0;34m\"log_interval\"\u001B[0m\u001B[0;34m]\u001B[0m \u001B[0;34m==\u001B[0m \u001B[0;36m0\u001B[0m\u001B[0;34m:\u001B[0m\u001B[0;34m\u001B[0m\u001B[0;34m\u001B[0m\u001B[0m\n",
      "\u001B[0;32m~/dev/blog/pytorch-mlflow-optuna/venv/lib/python3.7/site-packages/torch/tensor.py\u001B[0m in \u001B[0;36mbackward\u001B[0;34m(self, gradient, retain_graph, create_graph)\u001B[0m\n\u001B[1;32m    196\u001B[0m                 \u001B[0mproducts\u001B[0m\u001B[0;34m.\u001B[0m \u001B[0mDefaults\u001B[0m \u001B[0mto\u001B[0m\u001B[0;31m \u001B[0m\u001B[0;31m`\u001B[0m\u001B[0;31m`\u001B[0m\u001B[0;32mFalse\u001B[0m\u001B[0;31m`\u001B[0m\u001B[0;31m`\u001B[0m\u001B[0;34m.\u001B[0m\u001B[0;34m\u001B[0m\u001B[0;34m\u001B[0m\u001B[0m\n\u001B[1;32m    197\u001B[0m         \"\"\"\n\u001B[0;32m--> 198\u001B[0;31m         \u001B[0mtorch\u001B[0m\u001B[0;34m.\u001B[0m\u001B[0mautograd\u001B[0m\u001B[0;34m.\u001B[0m\u001B[0mbackward\u001B[0m\u001B[0;34m(\u001B[0m\u001B[0mself\u001B[0m\u001B[0;34m,\u001B[0m \u001B[0mgradient\u001B[0m\u001B[0;34m,\u001B[0m \u001B[0mretain_graph\u001B[0m\u001B[0;34m,\u001B[0m \u001B[0mcreate_graph\u001B[0m\u001B[0;34m)\u001B[0m\u001B[0;34m\u001B[0m\u001B[0;34m\u001B[0m\u001B[0m\n\u001B[0m\u001B[1;32m    199\u001B[0m \u001B[0;34m\u001B[0m\u001B[0m\n\u001B[1;32m    200\u001B[0m     \u001B[0;32mdef\u001B[0m \u001B[0mregister_hook\u001B[0m\u001B[0;34m(\u001B[0m\u001B[0mself\u001B[0m\u001B[0;34m,\u001B[0m \u001B[0mhook\u001B[0m\u001B[0;34m)\u001B[0m\u001B[0;34m:\u001B[0m\u001B[0;34m\u001B[0m\u001B[0;34m\u001B[0m\u001B[0m\n",
      "\u001B[0;32m~/dev/blog/pytorch-mlflow-optuna/venv/lib/python3.7/site-packages/torch/autograd/__init__.py\u001B[0m in \u001B[0;36mbackward\u001B[0;34m(tensors, grad_tensors, retain_graph, create_graph, grad_variables)\u001B[0m\n\u001B[1;32m     98\u001B[0m     Variable._execution_engine.run_backward(\n\u001B[1;32m     99\u001B[0m         \u001B[0mtensors\u001B[0m\u001B[0;34m,\u001B[0m \u001B[0mgrad_tensors\u001B[0m\u001B[0;34m,\u001B[0m \u001B[0mretain_graph\u001B[0m\u001B[0;34m,\u001B[0m \u001B[0mcreate_graph\u001B[0m\u001B[0;34m,\u001B[0m\u001B[0;34m\u001B[0m\u001B[0;34m\u001B[0m\u001B[0m\n\u001B[0;32m--> 100\u001B[0;31m         allow_unreachable=True)  # allow_unreachable flag\n\u001B[0m\u001B[1;32m    101\u001B[0m \u001B[0;34m\u001B[0m\u001B[0m\n\u001B[1;32m    102\u001B[0m \u001B[0;34m\u001B[0m\u001B[0m\n",
      "\u001B[0;31mKeyboardInterrupt\u001B[0m: "
     ]
    }
   ],
   "source": [
    "PARAMS = {\n",
    "    \"experiment_name\": \"pytorch-optuna-mlflow\",\n",
    "    \"batch_size\": 128,\n",
    "    \"validation_batch_size\": 1000,\n",
    "    \"epochs\": 3,\n",
    "    \"lr\": 1.0,\n",
    "    \"gamma\": 0.7,\n",
    "    \"use_cuda\": False,\n",
    "    \"seed\": 42,\n",
    "    \"log_interval\": 10,\n",
    "    \"save_model\": True\n",
    "}\n",
    "main(params=PARAMS)"
   ]
  },
  {
   "cell_type": "code",
   "execution_count": null,
   "metadata": {},
   "outputs": [],
   "source": []
  }
 ],
 "metadata": {
  "kernelspec": {
   "display_name": "Python 3",
   "language": "python",
   "name": "python3"
  },
  "language_info": {
   "codemirror_mode": {
    "name": "ipython",
    "version": 3
   },
   "file_extension": ".py",
   "mimetype": "text/x-python",
   "name": "python",
   "nbconvert_exporter": "python",
   "pygments_lexer": "ipython3",
   "version": "3.7.5"
  }
 },
 "nbformat": 4,
 "nbformat_minor": 1
}