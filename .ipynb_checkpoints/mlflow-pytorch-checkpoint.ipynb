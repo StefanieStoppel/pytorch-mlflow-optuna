{
 "cells": [
  {
   "cell_type": "markdown",
   "metadata": {
    "collapsed": true,
    "pycharm": {
     "is_executing": false,
     "name": "#%% md\n"
    }
   },
   "source": [
    "# MlFlow and PyTorch MNIST "
   ]
  },
  {
   "cell_type": "markdown",
   "metadata": {},
   "source": [
    "## Imports"
   ]
  },
  {
   "cell_type": "code",
   "execution_count": 1,
   "metadata": {
    "pycharm": {
     "is_executing": false,
     "name": "#%%\n"
    }
   },
   "outputs": [],
   "source": [
    "from __future__ import print_function\n",
    "import torch\n",
    "import torch.nn as nn\n",
    "import torch.nn.functional as F\n",
    "import torch.optim as optim\n",
    "from torchvision import datasets, transforms\n",
    "from torch.optim.lr_scheduler import StepLR\n",
    "\n",
    "import mlflow\n",
    "from mlflow import pytorch"
   ]
  },
  {
   "cell_type": "markdown",
   "metadata": {
    "pycharm": {
     "name": "#%% md\n"
    }
   },
   "source": [
    "## Network "
   ]
  },
  {
   "cell_type": "code",
   "execution_count": 2,
   "metadata": {
    "pycharm": {
     "is_executing": false,
     "name": "#%%\n"
    }
   },
   "outputs": [],
   "source": [
    "class Net(nn.Module):\n",
    "    def __init__(self):\n",
    "        super(Net, self).__init__()\n",
    "        self.conv1 = nn.Conv2d(1, 32, 3, 1)\n",
    "        self.conv2 = nn.Conv2d(32, 64, 3, 1)\n",
    "        self.dropout1 = nn.Dropout2d(0.25)\n",
    "        self.dropout2 = nn.Dropout2d(0.5)\n",
    "        self.fc1 = nn.Linear(9216, 128)\n",
    "        self.fc2 = nn.Linear(128, 10)\n",
    "\n",
    "    def forward(self, x):\n",
    "        x = self.conv1(x)\n",
    "        x = F.relu(x)\n",
    "        x = self.conv2(x)\n",
    "        x = F.relu(x)\n",
    "        x = F.max_pool2d(x, 2)\n",
    "        x = self.dropout1(x)\n",
    "        x = torch.flatten(x, 1)\n",
    "        x = self.fc1(x)\n",
    "        x = F.relu(x)\n",
    "        x = self.dropout2(x)\n",
    "        x = self.fc2(x)\n",
    "        output = F.log_softmax(x, dim=1)\n",
    "        return output\n",
    "    "
   ]
  },
  {
   "cell_type": "markdown",
   "metadata": {
    "pycharm": {
     "name": "#%% md\n"
    }
   },
   "source": [
    "## Train and test functions"
   ]
  },
  {
   "cell_type": "code",
   "execution_count": 3,
   "metadata": {
    "pycharm": {
     "is_executing": false,
     "name": "#%%\n"
    }
   },
   "outputs": [],
   "source": [
    "def train(args, model, device, train_loader, optimizer, epoch):\n",
    "    model.train()\n",
    "    for batch_idx, (data, target) in enumerate(train_loader):\n",
    "        data, target = data.to(device), target.to(device)\n",
    "        optimizer.zero_grad()\n",
    "        output = model(data)\n",
    "        loss = F.nll_loss(output, target)\n",
    "        loss.backward()\n",
    "        optimizer.step()\n",
    "        if batch_idx % args[\"log_interval\"] == 0:\n",
    "            # log loss metric\n",
    "            mlflow.log_metric(\"train_loss_item\", loss.item())\n",
    "            print('Train Epoch: {} [{}/{} ({:.0f}%)]\\tLoss: {:.6f}'.format(\n",
    "                epoch, batch_idx * len(data), len(train_loader.dataset),\n",
    "                100. * batch_idx / len(train_loader), loss.item()))\n",
    "\n",
    "\n",
    "def test(model, device, test_loader):\n",
    "    model.eval()\n",
    "    test_loss = 0\n",
    "    correct = 0\n",
    "    with torch.no_grad():\n",
    "        for data, target in test_loader:\n",
    "            data, target = data.to(device), target.to(device)\n",
    "            output = model(data)\n",
    "            test_loss += F.nll_loss(output, target, reduction='sum').item()  # sum up batch loss\n",
    "            pred = output.argmax(dim=1, keepdim=True)  # get the index of the max log-probability\n",
    "            correct += pred.eq(target.view_as(pred)).sum().item()\n",
    "\n",
    "    test_loss /= len(test_loader.dataset)\n",
    "    mlflow.log_metric(\"test_loss\", test_loss)\n",
    "\n",
    "    print('\\nTest set: Average loss: {:.4f}, Accuracy: {}/{} ({:.0f}%)\\n'.format(\n",
    "        test_loss, correct, len(test_loader.dataset),\n",
    "        100. * correct / len(test_loader.dataset)))\n",
    "    "
   ]
  },
  {
   "cell_type": "markdown",
   "metadata": {
    "pycharm": {
     "name": "#%% md\n"
    }
   },
   "source": [
    "## Main"
   ]
  },
  {
   "cell_type": "code",
   "execution_count": null,
   "metadata": {},
   "outputs": [],
   "source": [
    "use_cuda = not args[\"no_cuda\"] and torch.cuda.is_available()\n",
    "    \n",
    "        torch.manual_seed(args[\"seed\"])\n",
    "    \n",
    "        device = torch.device(\"cuda\" if use_cuda else \"cpu\")\n",
    "        # log device\n",
    "        mlflow.log_param(\"device\", device)\n",
    "    \n",
    "        kwargs = {'num_workers': 1, 'pin_memory': True} if use_cuda else {}\n",
    "        train_loader = torch.utils.data.DataLoader(\n",
    "            datasets.MNIST('../data', train=True, download=True,\n",
    "                           transform=transforms.Compose([\n",
    "                               transforms.ToTensor(),\n",
    "                               transforms.Normalize((0.1307,), (0.3081,))\n",
    "                           ])),\n",
    "            batch_size=args[\"batch_size\"], shuffle=True, **kwargs)\n",
    "        test_loader = torch.utils.data.DataLoader(\n",
    "            datasets.MNIST('../data', train=False, transform=transforms.Compose([\n",
    "                               transforms.ToTensor(),\n",
    "                               transforms.Normalize((0.1307,), (0.3081,))\n",
    "                           ])),\n",
    "            batch_size=args[\"test_batch_size\"], shuffle=True, **kwargs)\n",
    "    \n",
    "        model = Net().to(device)\n",
    "        optimizer = optim.Adadelta(model.parameters(), lr=args[\"lr\"])\n",
    "    \n",
    "        scheduler = StepLR(optimizer, step_size=1, gamma=args[\"gamma\"])\n",
    "        for epoch in range(1, args[\"epochs\"] + 1):\n",
    "            train(args, model, device, train_loader, optimizer, epoch)\n",
    "            test(model, device, test_loader)\n",
    "            # save checkpoint\n",
    "            pytorch.save_model(model, \"models/mnist_cnn_epoch_{}\".format(epoch))\n",
    "            scheduler.step()"
   ]
  },
  {
   "cell_type": "code",
   "execution_count": 13,
   "metadata": {
    "pycharm": {
     "is_executing": false,
     "name": "#%%\n"
    }
   },
   "outputs": [],
   "source": [
    "def main(params=None):\n",
    "    # Training settings\n",
    "    args = params\n",
    "    \n",
    "    with mlflow.start_run():\n",
    "        print(mlflow.active_run())\n",
    "        # use mlflow to log params\n",
    "        mlflow.log_params(args)\n",
    "        \n",
    "        use_cuda = not args[\"no_cuda\"] and torch.cuda.is_available()\n",
    "    \n",
    "        torch.manual_seed(args[\"seed\"])\n",
    "    \n",
    "        device = torch.device(\"cuda\" if use_cuda else \"cpu\")\n",
    "        # log device\n",
    "        mlflow.log_param(\"device\", device)\n",
    "    \n",
    "        kwargs = {'num_workers': 1, 'pin_memory': True} if use_cuda else {}\n",
    "        train_loader = torch.utils.data.DataLoader(\n",
    "            datasets.MNIST('../data', train=True, download=True,\n",
    "                           transform=transforms.Compose([\n",
    "                               transforms.ToTensor(),\n",
    "                               transforms.Normalize((0.1307,), (0.3081,))\n",
    "                           ])),\n",
    "            batch_size=args[\"batch_size\"], shuffle=True, **kwargs)\n",
    "        test_loader = torch.utils.data.DataLoader(\n",
    "            datasets.MNIST('../data', train=False, transform=transforms.Compose([\n",
    "                               transforms.ToTensor(),\n",
    "                               transforms.Normalize((0.1307,), (0.3081,))\n",
    "                           ])),\n",
    "            batch_size=args[\"test_batch_size\"], shuffle=True, **kwargs)\n",
    "    \n",
    "        model = Net().to(device)\n",
    "        optimizer = optim.Adadelta(model.parameters(), lr=args[\"lr\"])\n",
    "    \n",
    "        scheduler = StepLR(optimizer, step_size=1, gamma=args[\"gamma\"])\n",
    "        for epoch in range(1, args[\"epochs\"] + 1):\n",
    "            train(args, model, device, train_loader, optimizer, epoch)\n",
    "            test(model, device, test_loader)\n",
    "            # save checkpoint\n",
    "            pytorch.save_model(model, \"models/mnist_cnn_epoch_{}\".format(epoch))\n",
    "            scheduler.step()\n",
    "    \n",
    "        if args[\"save_model\"]:\n",
    "            pytorch.save_model(model.state_dict(), \"mnist_cnn_final\")"
   ]
  },
  {
   "cell_type": "code",
   "execution_count": 12,
   "metadata": {
    "pycharm": {
     "is_executing": false,
     "name": "#%%\n"
    }
   },
   "outputs": [
    {
     "name": "stdout",
     "output_type": "stream",
     "text": [
      "<ActiveRun: >\n",
      "Train Epoch: 1 [0/60000 (0%)]\tLoss: 2.316244\n",
      "Train Epoch: 1 [1280/60000 (2%)]\tLoss: 1.028947\n",
      "Train Epoch: 1 [2560/60000 (4%)]\tLoss: 0.591971\n",
      "Train Epoch: 1 [3840/60000 (6%)]\tLoss: 0.751472\n",
      "Train Epoch: 1 [5120/60000 (9%)]\tLoss: 0.517115\n",
      "Train Epoch: 1 [6400/60000 (11%)]\tLoss: 0.328166\n",
      "Train Epoch: 1 [7680/60000 (13%)]\tLoss: 0.284099\n",
      "Train Epoch: 1 [8960/60000 (15%)]\tLoss: 0.340080\n",
      "Train Epoch: 1 [10240/60000 (17%)]\tLoss: 0.200843\n",
      "Train Epoch: 1 [11520/60000 (19%)]\tLoss: 0.226486\n",
      "Train Epoch: 1 [12800/60000 (21%)]\tLoss: 0.259183\n",
      "Train Epoch: 1 [14080/60000 (23%)]\tLoss: 0.200539\n",
      "Train Epoch: 1 [15360/60000 (26%)]\tLoss: 0.189451\n",
      "Train Epoch: 1 [16640/60000 (28%)]\tLoss: 0.093673\n",
      "Train Epoch: 1 [17920/60000 (30%)]\tLoss: 0.316489\n",
      "Train Epoch: 1 [19200/60000 (32%)]\tLoss: 0.220907\n",
      "Train Epoch: 1 [20480/60000 (34%)]\tLoss: 0.260514\n",
      "Train Epoch: 1 [21760/60000 (36%)]\tLoss: 0.110813\n",
      "Train Epoch: 1 [23040/60000 (38%)]\tLoss: 0.103629\n",
      "Train Epoch: 1 [24320/60000 (41%)]\tLoss: 0.112639\n",
      "Train Epoch: 1 [25600/60000 (43%)]\tLoss: 0.170926\n",
      "Train Epoch: 1 [26880/60000 (45%)]\tLoss: 0.139492\n",
      "Train Epoch: 1 [28160/60000 (47%)]\tLoss: 0.127653\n",
      "Train Epoch: 1 [29440/60000 (49%)]\tLoss: 0.177721\n",
      "Train Epoch: 1 [30720/60000 (51%)]\tLoss: 0.166767\n",
      "Train Epoch: 1 [32000/60000 (53%)]\tLoss: 0.061434\n",
      "Train Epoch: 1 [33280/60000 (55%)]\tLoss: 0.117664\n",
      "Train Epoch: 1 [34560/60000 (58%)]\tLoss: 0.208360\n",
      "Train Epoch: 1 [35840/60000 (60%)]\tLoss: 0.061917\n",
      "Train Epoch: 1 [37120/60000 (62%)]\tLoss: 0.177310\n",
      "Train Epoch: 1 [38400/60000 (64%)]\tLoss: 0.212911\n",
      "Train Epoch: 1 [39680/60000 (66%)]\tLoss: 0.156007\n",
      "Train Epoch: 1 [40960/60000 (68%)]\tLoss: 0.076255\n",
      "Train Epoch: 1 [42240/60000 (70%)]\tLoss: 0.098017\n",
      "Train Epoch: 1 [43520/60000 (72%)]\tLoss: 0.064030\n",
      "Train Epoch: 1 [44800/60000 (75%)]\tLoss: 0.136801\n",
      "Train Epoch: 1 [46080/60000 (77%)]\tLoss: 0.075591\n",
      "Train Epoch: 1 [47360/60000 (79%)]\tLoss: 0.042455\n",
      "Train Epoch: 1 [48640/60000 (81%)]\tLoss: 0.161117\n",
      "Train Epoch: 1 [49920/60000 (83%)]\tLoss: 0.117219\n",
      "Train Epoch: 1 [51200/60000 (85%)]\tLoss: 0.189990\n",
      "Train Epoch: 1 [52480/60000 (87%)]\tLoss: 0.027196\n",
      "Train Epoch: 1 [53760/60000 (90%)]\tLoss: 0.130242\n",
      "Train Epoch: 1 [55040/60000 (92%)]\tLoss: 0.138646\n",
      "Train Epoch: 1 [56320/60000 (94%)]\tLoss: 0.080904\n",
      "Train Epoch: 1 [57600/60000 (96%)]\tLoss: 0.099901\n",
      "Train Epoch: 1 [58880/60000 (98%)]\tLoss: 0.091924\n",
      "\n",
      "Test set: Average loss: 0.0546, Accuracy: 9818/10000 (98%)\n",
      "\n"
     ]
    },
    {
     "name": "stderr",
     "output_type": "stream",
     "text": [
      "/home/steffi/dev/CVP/test/mlflow-neptune-test/lib/python3.7/site-packages/torch/serialization.py:402: UserWarning: Couldn't retrieve source code for container of type Net. It won't be checked for correctness upon loading.\n",
      "  \"type \" + obj.__name__ + \". It won't be checked \"\n"
     ]
    },
    {
     "name": "stdout",
     "output_type": "stream",
     "text": [
      "Train Epoch: 2 [0/60000 (0%)]\tLoss: 0.152934\n",
      "Train Epoch: 2 [1280/60000 (2%)]\tLoss: 0.062404\n",
      "Train Epoch: 2 [2560/60000 (4%)]\tLoss: 0.050864\n",
      "Train Epoch: 2 [3840/60000 (6%)]\tLoss: 0.039551\n",
      "Train Epoch: 2 [5120/60000 (9%)]\tLoss: 0.106385\n",
      "Train Epoch: 2 [6400/60000 (11%)]\tLoss: 0.030091\n",
      "Train Epoch: 2 [7680/60000 (13%)]\tLoss: 0.068544\n",
      "Train Epoch: 2 [8960/60000 (15%)]\tLoss: 0.032155\n",
      "Train Epoch: 2 [10240/60000 (17%)]\tLoss: 0.058093\n",
      "Train Epoch: 2 [11520/60000 (19%)]\tLoss: 0.091168\n",
      "Train Epoch: 2 [12800/60000 (21%)]\tLoss: 0.060270\n",
      "Train Epoch: 2 [14080/60000 (23%)]\tLoss: 0.057623\n",
      "Train Epoch: 2 [15360/60000 (26%)]\tLoss: 0.070544\n",
      "Train Epoch: 2 [16640/60000 (28%)]\tLoss: 0.034418\n",
      "Train Epoch: 2 [17920/60000 (30%)]\tLoss: 0.067593\n",
      "Train Epoch: 2 [19200/60000 (32%)]\tLoss: 0.017199\n",
      "Train Epoch: 2 [20480/60000 (34%)]\tLoss: 0.180374\n",
      "Train Epoch: 2 [21760/60000 (36%)]\tLoss: 0.097926\n",
      "Train Epoch: 2 [23040/60000 (38%)]\tLoss: 0.142792\n",
      "Train Epoch: 2 [24320/60000 (41%)]\tLoss: 0.077003\n",
      "Train Epoch: 2 [25600/60000 (43%)]\tLoss: 0.047985\n",
      "Train Epoch: 2 [26880/60000 (45%)]\tLoss: 0.139268\n",
      "Train Epoch: 2 [28160/60000 (47%)]\tLoss: 0.082420\n",
      "Train Epoch: 2 [29440/60000 (49%)]\tLoss: 0.076091\n",
      "Train Epoch: 2 [30720/60000 (51%)]\tLoss: 0.058182\n",
      "Train Epoch: 2 [32000/60000 (53%)]\tLoss: 0.096464\n",
      "Train Epoch: 2 [33280/60000 (55%)]\tLoss: 0.049993\n",
      "Train Epoch: 2 [34560/60000 (58%)]\tLoss: 0.069852\n",
      "Train Epoch: 2 [35840/60000 (60%)]\tLoss: 0.065958\n",
      "Train Epoch: 2 [37120/60000 (62%)]\tLoss: 0.125060\n",
      "Train Epoch: 2 [38400/60000 (64%)]\tLoss: 0.039153\n",
      "Train Epoch: 2 [39680/60000 (66%)]\tLoss: 0.051238\n",
      "Train Epoch: 2 [40960/60000 (68%)]\tLoss: 0.109499\n",
      "Train Epoch: 2 [42240/60000 (70%)]\tLoss: 0.083333\n",
      "Train Epoch: 2 [43520/60000 (72%)]\tLoss: 0.081239\n",
      "Train Epoch: 2 [44800/60000 (75%)]\tLoss: 0.132443\n",
      "Train Epoch: 2 [46080/60000 (77%)]\tLoss: 0.149425\n",
      "Train Epoch: 2 [47360/60000 (79%)]\tLoss: 0.037480\n",
      "Train Epoch: 2 [48640/60000 (81%)]\tLoss: 0.054865\n",
      "Train Epoch: 2 [49920/60000 (83%)]\tLoss: 0.099879\n",
      "Train Epoch: 2 [51200/60000 (85%)]\tLoss: 0.092532\n",
      "Train Epoch: 2 [52480/60000 (87%)]\tLoss: 0.099128\n",
      "Train Epoch: 2 [53760/60000 (90%)]\tLoss: 0.079336\n",
      "Train Epoch: 2 [55040/60000 (92%)]\tLoss: 0.082378\n",
      "Train Epoch: 2 [56320/60000 (94%)]\tLoss: 0.023487\n",
      "Train Epoch: 2 [57600/60000 (96%)]\tLoss: 0.103865\n",
      "Train Epoch: 2 [58880/60000 (98%)]\tLoss: 0.100622\n",
      "\n",
      "Test set: Average loss: 0.0358, Accuracy: 9877/10000 (99%)\n",
      "\n",
      "Train Epoch: 3 [0/60000 (0%)]\tLoss: 0.050844\n",
      "Train Epoch: 3 [1280/60000 (2%)]\tLoss: 0.051912\n",
      "Train Epoch: 3 [2560/60000 (4%)]\tLoss: 0.013792\n",
      "Train Epoch: 3 [3840/60000 (6%)]\tLoss: 0.035585\n",
      "Train Epoch: 3 [5120/60000 (9%)]\tLoss: 0.011716\n",
      "Train Epoch: 3 [6400/60000 (11%)]\tLoss: 0.015025\n",
      "Train Epoch: 3 [7680/60000 (13%)]\tLoss: 0.101562\n",
      "Train Epoch: 3 [8960/60000 (15%)]\tLoss: 0.029050\n",
      "Train Epoch: 3 [10240/60000 (17%)]\tLoss: 0.125641\n",
      "Train Epoch: 3 [11520/60000 (19%)]\tLoss: 0.118778\n",
      "Train Epoch: 3 [12800/60000 (21%)]\tLoss: 0.036239\n",
      "Train Epoch: 3 [14080/60000 (23%)]\tLoss: 0.123718\n",
      "Train Epoch: 3 [15360/60000 (26%)]\tLoss: 0.067325\n",
      "Train Epoch: 3 [16640/60000 (28%)]\tLoss: 0.057676\n",
      "Train Epoch: 3 [17920/60000 (30%)]\tLoss: 0.146261\n",
      "Train Epoch: 3 [19200/60000 (32%)]\tLoss: 0.031487\n",
      "Train Epoch: 3 [20480/60000 (34%)]\tLoss: 0.059331\n",
      "Train Epoch: 3 [21760/60000 (36%)]\tLoss: 0.043540\n",
      "Train Epoch: 3 [23040/60000 (38%)]\tLoss: 0.008500\n",
      "Train Epoch: 3 [24320/60000 (41%)]\tLoss: 0.150286\n",
      "Train Epoch: 3 [25600/60000 (43%)]\tLoss: 0.106156\n",
      "Train Epoch: 3 [26880/60000 (45%)]\tLoss: 0.060498\n",
      "Train Epoch: 3 [28160/60000 (47%)]\tLoss: 0.073006\n",
      "Train Epoch: 3 [29440/60000 (49%)]\tLoss: 0.081222\n",
      "Train Epoch: 3 [30720/60000 (51%)]\tLoss: 0.033906\n",
      "Train Epoch: 3 [32000/60000 (53%)]\tLoss: 0.050438\n",
      "Train Epoch: 3 [33280/60000 (55%)]\tLoss: 0.038092\n",
      "Train Epoch: 3 [34560/60000 (58%)]\tLoss: 0.078942\n",
      "Train Epoch: 3 [35840/60000 (60%)]\tLoss: 0.065055\n",
      "Train Epoch: 3 [37120/60000 (62%)]\tLoss: 0.016982\n",
      "Train Epoch: 3 [38400/60000 (64%)]\tLoss: 0.117462\n",
      "Train Epoch: 3 [39680/60000 (66%)]\tLoss: 0.063468\n",
      "Train Epoch: 3 [40960/60000 (68%)]\tLoss: 0.025008\n",
      "Train Epoch: 3 [42240/60000 (70%)]\tLoss: 0.049671\n",
      "Train Epoch: 3 [43520/60000 (72%)]\tLoss: 0.043615\n",
      "Train Epoch: 3 [44800/60000 (75%)]\tLoss: 0.005682\n",
      "Train Epoch: 3 [46080/60000 (77%)]\tLoss: 0.055829\n",
      "Train Epoch: 3 [47360/60000 (79%)]\tLoss: 0.075696\n",
      "Train Epoch: 3 [48640/60000 (81%)]\tLoss: 0.090690\n",
      "Train Epoch: 3 [49920/60000 (83%)]\tLoss: 0.046825\n",
      "Train Epoch: 3 [51200/60000 (85%)]\tLoss: 0.038054\n",
      "Train Epoch: 3 [52480/60000 (87%)]\tLoss: 0.050626\n",
      "Train Epoch: 3 [53760/60000 (90%)]\tLoss: 0.026085\n",
      "Train Epoch: 3 [55040/60000 (92%)]\tLoss: 0.006198\n",
      "Train Epoch: 3 [56320/60000 (94%)]\tLoss: 0.039928\n",
      "Train Epoch: 3 [57600/60000 (96%)]\tLoss: 0.083617\n",
      "Train Epoch: 3 [58880/60000 (98%)]\tLoss: 0.053494\n",
      "\n",
      "Test set: Average loss: 0.0314, Accuracy: 9894/10000 (99%)\n",
      "\n"
     ]
    },
    {
     "ename": "AttributeError",
     "evalue": "module 'mlflow' has no attribute 'log_model'",
     "output_type": "error",
     "traceback": [
      "\u001b[0;31m---------------------------------------------------------------------------\u001b[0m",
      "\u001b[0;31mAttributeError\u001b[0m                            Traceback (most recent call last)",
      "\u001b[0;32m<ipython-input-12-213f12a08d44>\u001b[0m in \u001b[0;36m<module>\u001b[0;34m\u001b[0m\n\u001b[1;32m     10\u001b[0m     \u001b[0;34m\"save_model\"\u001b[0m\u001b[0;34m:\u001b[0m \u001b[0;32mTrue\u001b[0m\u001b[0;34m\u001b[0m\u001b[0;34m\u001b[0m\u001b[0m\n\u001b[1;32m     11\u001b[0m }\n\u001b[0;32m---> 12\u001b[0;31m \u001b[0mmain\u001b[0m\u001b[0;34m(\u001b[0m\u001b[0mparams\u001b[0m\u001b[0;34m=\u001b[0m\u001b[0mPARAMS\u001b[0m\u001b[0;34m)\u001b[0m\u001b[0;34m\u001b[0m\u001b[0;34m\u001b[0m\u001b[0m\n\u001b[0m",
      "\u001b[0;32m<ipython-input-10-8baf452acb08>\u001b[0m in \u001b[0;36mmain\u001b[0;34m(params)\u001b[0m\n\u001b[1;32m     43\u001b[0m \u001b[0;34m\u001b[0m\u001b[0m\n\u001b[1;32m     44\u001b[0m         \u001b[0;32mif\u001b[0m \u001b[0margs\u001b[0m\u001b[0;34m[\u001b[0m\u001b[0;34m\"save_model\"\u001b[0m\u001b[0;34m]\u001b[0m\u001b[0;34m:\u001b[0m\u001b[0;34m\u001b[0m\u001b[0;34m\u001b[0m\u001b[0m\n\u001b[0;32m---> 45\u001b[0;31m             \u001b[0mmlflow\u001b[0m\u001b[0;34m.\u001b[0m\u001b[0mlog_model\u001b[0m\u001b[0;34m(\u001b[0m\u001b[0mmodel\u001b[0m\u001b[0;34m.\u001b[0m\u001b[0mstate_dict\u001b[0m\u001b[0;34m(\u001b[0m\u001b[0;34m)\u001b[0m\u001b[0;34m,\u001b[0m \u001b[0;34m\"mnist_cnn_final\"\u001b[0m\u001b[0;34m)\u001b[0m\u001b[0;34m\u001b[0m\u001b[0;34m\u001b[0m\u001b[0m\n\u001b[0m",
      "\u001b[0;31mAttributeError\u001b[0m: module 'mlflow' has no attribute 'log_model'"
     ]
    }
   ],
   "source": [
    "PARAMS = {\n",
    "    \"batch_size\": 128,\n",
    "    \"test_batch_size\": 1000,\n",
    "    \"epochs\": 3,\n",
    "    \"lr\": 1.0,\n",
    "    \"gamma\": 0.7,\n",
    "    \"no_cuda\": False,\n",
    "    \"seed\": 1,\n",
    "    \"log_interval\": 10,\n",
    "    \"save_model\": True\n",
    "}\n",
    "main(params=PARAMS)"
   ]
  },
  {
   "cell_type": "code",
   "execution_count": null,
   "metadata": {},
   "outputs": [],
   "source": []
  }
 ],
 "metadata": {
  "kernelspec": {
   "display_name": "Python 3",
   "language": "python",
   "name": "python3"
  },
  "language_info": {
   "codemirror_mode": {
    "name": "ipython",
    "version": 3
   },
   "file_extension": ".py",
   "mimetype": "text/x-python",
   "name": "python",
   "nbconvert_exporter": "python",
   "pygments_lexer": "ipython3",
   "version": "3.7.5"
  },
  "pycharm": {
   "stem_cell": {
    "cell_type": "raw",
    "metadata": {
     "collapsed": false
    },
    "source": []
   }
  }
 },
 "nbformat": 4,
 "nbformat_minor": 1
}
